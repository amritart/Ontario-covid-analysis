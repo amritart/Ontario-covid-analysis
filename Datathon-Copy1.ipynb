{
 "cells": [
  {
   "cell_type": "code",
   "execution_count": 15,
   "id": "8d5c97a9",
   "metadata": {},
   "outputs": [
    {
     "name": "stderr",
     "output_type": "stream",
     "text": [
      "C:\\Users\\Veerendraku.Krishnan\\AppData\\Local\\Temp\\ipykernel_31852\\473689453.py:4: DtypeWarning: Columns (0,10,11,12,13,14,15,16,17,18,20,21,22,23,24,25) have mixed types. Specify dtype option on import or set low_memory=False.\n",
      "  covid_pos = pd.read_csv(\"AllSchemas_ontario_final (1).csv\")\n"
     ]
    },
    {
     "data": {
      "text/plain": [
       "month                                0\n",
       "fsa                              14932\n",
       "probable                             0\n",
       "vulnerable                           0\n",
       "fever_chills_shakes                  0\n",
       "cough                                0\n",
       "shortness_of_breath                  0\n",
       "any_medical_conditions               0\n",
       "travel_outside_canada                0\n",
       "contact_with_illness                 0\n",
       "contact_in_household            293946\n",
       "tested                          278571\n",
       "covid_results_date              293684\n",
       "covid_positive                  293615\n",
       "symptoms                        291516\n",
       "conditions                      287948\n",
       "ethnicity                       286706\n",
       "sex                             270491\n",
       "needs                           271470\n",
       "age_1                                0\n",
       "mental_health_impact            285418\n",
       "travel_work_school              285425\n",
       "self_isolating                  285426\n",
       "media_channels                  288403\n",
       "financial_obligations_impact    293189\n",
       "tobacco_usage                   285427\n",
       "is_most_recent                   15534\n",
       "dtype: int64"
      ]
     },
     "execution_count": 15,
     "metadata": {},
     "output_type": "execute_result"
    }
   ],
   "source": [
    "import pandas as pd\n",
    "import numpy as np\n",
    "\n",
    "covid_pos = pd.read_csv(\"AllSchemas_ontario_final (1).csv\")\n",
    "covid_pos.isnull().sum()"
   ]
  },
  {
   "cell_type": "code",
   "execution_count": 4,
   "id": "190ece0e",
   "metadata": {},
   "outputs": [],
   "source": [
    "covid_pos['covid_positive']=covid_pos['covid_positive'].replace('n','0')\n",
    "covid_pos['covid_positive']=covid_pos['covid_positive'].replace('negatively','0')\n",
    "covid_pos['covid_positive']=covid_pos['covid_positive'].replace('positively','1')\n"
   ]
  },
  {
   "cell_type": "code",
   "execution_count": 14,
   "id": "00a854ec",
   "metadata": {},
   "outputs": [],
   "source": [
    "covid_pos.to_csv('AllSchema_04_01.csv')"
   ]
  },
  {
   "cell_type": "code",
   "execution_count": 5,
   "id": "c14f1a72",
   "metadata": {},
   "outputs": [],
   "source": [
    "covid_pos['tested']= covid_pos['tested'].replace('n','0')\n",
    "covid_pos['tested']= covid_pos['tested'].replace('y','1')"
   ]
  },
  {
   "cell_type": "code",
   "execution_count": 6,
   "id": "ff7f2b86",
   "metadata": {},
   "outputs": [],
   "source": [
    "covid_pos['is_most_recent']=covid_pos['is_most_recent'].replace('n','0')\n",
    "covid_pos['is_most_recent']=covid_pos['is_most_recent'].replace('y','1')"
   ]
  },
  {
   "cell_type": "code",
   "execution_count": 7,
   "id": "2b182426",
   "metadata": {},
   "outputs": [],
   "source": [
    "covid_pos['age_1']=covid_pos['age_1'].replace('<26','25')\n",
    "covid_pos['age_1']=covid_pos['age_1'].replace('<65','64')\n",
    "covid_pos['age_1']=covid_pos['age_1'].replace('26-44','35')\n",
    "covid_pos['age_1']=covid_pos['age_1'].replace('45-64','55')\n",
    "covid_pos['age_1']=covid_pos['age_1'].replace('>65','65')\n",
    "covid_pos['age_1']=covid_pos['age_1'].replace('n','59')\n",
    "covid_pos['age_1']=covid_pos['age_1'].replace('y','60')"
   ]
  },
  {
   "cell_type": "code",
   "execution_count": 53,
   "id": "9700aa45",
   "metadata": {},
   "outputs": [],
   "source": [
    "covid_pos['sex']= covid_pos['sex'].astype('Int64')"
   ]
  },
  {
   "cell_type": "code",
   "execution_count": 8,
   "id": "7f792b67",
   "metadata": {},
   "outputs": [],
   "source": [
    "covid_pos['self_isolating']=covid_pos['self_isolating'].replace('y','1')\n",
    "covid_pos['self_isolating']=covid_pos['self_isolating'].replace('n','0')"
   ]
  },
  {
   "cell_type": "code",
   "execution_count": 9,
   "id": "0b056977",
   "metadata": {},
   "outputs": [],
   "source": [
    "covid_pos['tobacco_usage']=covid_pos['tobacco_usage'].replace('n','0')\n",
    "covid_pos['tobacco_usage']=covid_pos['tobacco_usage'].replace('y','1')\n",
    "covid_pos['tobacco_usage']=covid_pos['tobacco_usage'].replace(\"quitSmoking\",'2')\n",
    "\n"
   ]
  },
  {
   "cell_type": "code",
   "execution_count": 10,
   "id": "a178c28f",
   "metadata": {},
   "outputs": [],
   "source": [
    "covid_pos['sex']=covid_pos['sex'].replace('m','1')\n",
    "covid_pos['sex']=covid_pos['sex'].replace('f','0')\n",
    "covid_pos['sex']=covid_pos['sex'].replace('na','2')\n"
   ]
  },
  {
   "cell_type": "code",
   "execution_count": 96,
   "id": "a4c279cb",
   "metadata": {},
   "outputs": [
    {
     "name": "stdout",
     "output_type": "stream",
     "text": [
      "<class 'pandas.core.frame.DataFrame'>\n",
      "RangeIndex: 294105 entries, 0 to 294104\n",
      "Data columns (total 27 columns):\n",
      " #   Column                        Non-Null Count   Dtype   \n",
      "---  ------                        --------------   -----   \n",
      " 0   month                         294105 non-null  category\n",
      " 1   fsa                           279173 non-null  category\n",
      " 2   probable                      294105 non-null  category\n",
      " 3   vulnerable                    294105 non-null  category\n",
      " 4   fever_chills_shakes           294105 non-null  category\n",
      " 5   cough                         294105 non-null  category\n",
      " 6   shortness_of_breath           294105 non-null  category\n",
      " 7   any_medical_conditions        294105 non-null  category\n",
      " 8   travel_outside_canada         294105 non-null  category\n",
      " 9   contact_with_illness          294105 non-null  category\n",
      " 10  contact_in_household          159 non-null     category\n",
      " 11  tested                        15534 non-null   category\n",
      " 12  covid_results_date            421 non-null     category\n",
      " 13  covid_positive                490 non-null     category\n",
      " 14  symptoms                      2589 non-null    category\n",
      " 15  conditions                    6157 non-null    category\n",
      " 16  ethnicity                     7399 non-null    category\n",
      " 17  sex                           23614 non-null   category\n",
      " 18  needs                         22635 non-null   category\n",
      " 19  age_1                         294105 non-null  category\n",
      " 20  mental_health_impact          8687 non-null    category\n",
      " 21  travel_work_school            8680 non-null    category\n",
      " 22  self_isolating                8679 non-null    Int64   \n",
      " 23  media_channels                5702 non-null    category\n",
      " 24  financial_obligations_impact  916 non-null     category\n",
      " 25  tobacco_usage                 8678 non-null    category\n",
      " 26  is_most_recent                278571 non-null  category\n",
      "dtypes: Int64(1), category(26)\n",
      "memory usage: 11.3 MB\n"
     ]
    }
   ],
   "source": [
    "covid_pos.info()"
   ]
  },
  {
   "cell_type": "code",
   "execution_count": 150,
   "id": "df82c010",
   "metadata": {},
   "outputs": [],
   "source": []
  },
  {
   "cell_type": "code",
   "execution_count": 155,
   "id": "8e2bf0b3",
   "metadata": {},
   "outputs": [],
   "source": [
    "covid_pos.to_csv('AllSchema_04_01.csv')"
   ]
  },
  {
   "cell_type": "code",
   "execution_count": 11,
   "id": "f6f2274d",
   "metadata": {},
   "outputs": [],
   "source": [
    "covid_pos['month'] = covid_pos['month'].replace('15','April')\n",
    "covid_pos['month'] = covid_pos['month'].replace('13','March')\n",
    "covid_pos['month'] = covid_pos['month'].replace('14','April')\n",
    "covid_pos['month']= covid_pos['month'].replace('16','April')\n"
   ]
  },
  {
   "cell_type": "code",
   "execution_count": 12,
   "id": "7e143832",
   "metadata": {},
   "outputs": [],
   "source": [
    "covid_pos['probable'] = covid_pos['probable'].replace('n', '0')\n",
    "covid_pos['probable'] = covid_pos['probable'].replace('y', '1')\n",
    "\n",
    "covid_pos['vulnerable'] = covid_pos['vulnerable'].replace('n', '0')\n",
    "covid_pos['vulnerable'] = covid_pos['vulnerable'].replace('y', '1')\n",
    "\n",
    "covid_pos['fever_chills_shakes'] = covid_pos['fever_chills_shakes'].replace('y', '1')\n",
    "covid_pos['fever_chills_shakes'] = covid_pos['fever_chills_shakes'].replace('n', '0')\n",
    "\n",
    "covid_pos['cough'] = covid_pos['cough'].replace('n', '0')\n",
    "covid_pos['cough'] = covid_pos['cough'].replace('y', '1')\n",
    "\n",
    "covid_pos['shortness_of_breath'] = covid_pos['shortness_of_breath'].replace('y', '1')\n",
    "covid_pos['shortness_of_breath'] = covid_pos['shortness_of_breath'].replace('n', '0')\n",
    "\n",
    "covid_pos['any_medical_conditions'] = covid_pos['any_medical_conditions'].replace('n', '0')\n",
    "covid_pos['any_medical_conditions'] = covid_pos['any_medical_conditions'].replace('y', '1')\n",
    "\n",
    "covid_pos['travel_outside_canada'] = covid_pos['travel_outside_canada'].replace('y', '1')\n",
    "covid_pos['travel_outside_canada'] = covid_pos['travel_outside_canada'].replace('n', '0')\n",
    "\n",
    "covid_pos['contact_with_illness'] = covid_pos['contact_with_illness'].replace('n', '0')\n",
    "covid_pos['contact_with_illness'] = covid_pos['contact_with_illness'].replace('y', '1')\n",
    "\n",
    "covid_pos['contact_in_household'] = covid_pos['contact_with_illness'].replace('y', '1')\n",
    "covid_pos['contact_in_household'] = covid_pos['contact_with_illness'].replace('n', '0')\n"
   ]
  },
  {
   "cell_type": "code",
   "execution_count": 77,
   "id": "7fc7ed1a",
   "metadata": {},
   "outputs": [
    {
     "name": "stdout",
     "output_type": "stream",
     "text": [
      "<class 'pandas.core.series.Series'>\n",
      "RangeIndex: 294105 entries, 0 to 294104\n",
      "Series name: month\n",
      "Non-Null Count   Dtype \n",
      "--------------   ----- \n",
      "294105 non-null  object\n",
      "dtypes: object(1)\n",
      "memory usage: 2.2+ MB\n"
     ]
    }
   ],
   "source": [
    "covid_pos['month'].info()"
   ]
  },
  {
   "cell_type": "code",
   "execution_count": 81,
   "id": "d4781161",
   "metadata": {},
   "outputs": [
    {
     "data": {
      "text/plain": [
       "month\n",
       "13       142137\n",
       "14        99956\n",
       "15        11043\n",
       "13        10027\n",
       "16         8201\n",
       "14         6911\n",
       "May        6698\n",
       "April      5821\n",
       "June       2343\n",
       "July        672\n",
       "15          296\n",
       "Name: count, dtype: int64"
      ]
     },
     "execution_count": 81,
     "metadata": {},
     "output_type": "execute_result"
    }
   ],
   "source": [
    "covid_pos['month'].value_counts()"
   ]
  },
  {
   "cell_type": "code",
   "execution_count": 87,
   "id": "3e23e353",
   "metadata": {},
   "outputs": [
    {
     "data": {
      "text/plain": [
       "month\n",
       "March    152164\n",
       "April    132228\n",
       "May        6698\n",
       "June       2343\n",
       "July        672\n",
       "Name: count, dtype: int64"
      ]
     },
     "execution_count": 87,
     "metadata": {},
     "output_type": "execute_result"
    }
   ],
   "source": [
    "covid_pos['month'].value_counts()"
   ]
  },
  {
   "cell_type": "code",
   "execution_count": 13,
   "id": "4d755000",
   "metadata": {},
   "outputs": [],
   "source": [
    "covid_pos['month'] = covid_pos['month'].replace(15,'April')\n",
    "covid_pos['month'] = covid_pos['month'].replace(13,'March')\n",
    "covid_pos['month'] = covid_pos['month'].replace(14,'April')\n",
    "covid_pos['month']= covid_pos['month'].replace(16,'April')\n"
   ]
  },
  {
   "cell_type": "code",
   "execution_count": 16,
   "id": "4defc1d0",
   "metadata": {},
   "outputs": [
    {
     "name": "stderr",
     "output_type": "stream",
     "text": [
      "C:\\Users\\Veerendraku.Krishnan\\AppData\\Local\\Temp\\ipykernel_31852\\3655825688.py:1: DtypeWarning: Columns (13,15,16,17,19,21,22,24,25) have mixed types. Specify dtype option on import or set low_memory=False.\n",
      "  cleanup = pd.read_csv(\"AllSchema_04_01.csv\")\n"
     ]
    }
   ],
   "source": [
    "cleanup = pd.read_csv(\"AllSchema_04_01.csv\")"
   ]
  },
  {
   "cell_type": "code",
   "execution_count": 141,
   "id": "6a4c0ccf",
   "metadata": {},
   "outputs": [
    {
     "data": {
      "text/plain": [
       "15534"
      ]
     },
     "execution_count": 141,
     "metadata": {},
     "output_type": "execute_result"
    }
   ],
   "source": [
    "cleanup['is_most_recent'].isnull().sum()"
   ]
  },
  {
   "cell_type": "code",
   "execution_count": 139,
   "id": "37368547",
   "metadata": {},
   "outputs": [
    {
     "data": {
      "text/plain": [
       "is_most_recent\n",
       "y    250668\n",
       "n     27903\n",
       "Name: count, dtype: int64"
      ]
     },
     "execution_count": 139,
     "metadata": {},
     "output_type": "execute_result"
    }
   ],
   "source": [
    "covid_pos['is_most_recent'].value_counts()"
   ]
  },
  {
   "cell_type": "code",
   "execution_count": 17,
   "id": "6a46f6e1",
   "metadata": {},
   "outputs": [
    {
     "data": {
      "text/plain": [
       "month\n",
       "13       142137\n",
       "14        99956\n",
       "15        11043\n",
       "13        10027\n",
       "16         8201\n",
       "14         6911\n",
       "May        6698\n",
       "April      5821\n",
       "June       2343\n",
       "July        672\n",
       "15          296\n",
       "Name: count, dtype: int64"
      ]
     },
     "execution_count": 17,
     "metadata": {},
     "output_type": "execute_result"
    }
   ],
   "source": [
    "covid_pos['month'].value_counts()"
   ]
  },
  {
   "cell_type": "code",
   "execution_count": 18,
   "id": "8d984209",
   "metadata": {},
   "outputs": [
    {
     "data": {
      "text/plain": [
       "month\n",
       "March    152164\n",
       "April    132228\n",
       "May        6698\n",
       "June       2343\n",
       "July        672\n",
       "Name: count, dtype: int64"
      ]
     },
     "execution_count": 18,
     "metadata": {},
     "output_type": "execute_result"
    }
   ],
   "source": [
    "cleanup['month'].value_counts()"
   ]
  },
  {
   "cell_type": "code",
   "execution_count": null,
   "id": "1b076cb1",
   "metadata": {},
   "outputs": [],
   "source": []
  }
 ],
 "metadata": {
  "kernelspec": {
   "display_name": "Python 3 (ipykernel)",
   "language": "python",
   "name": "python3"
  },
  "language_info": {
   "codemirror_mode": {
    "name": "ipython",
    "version": 3
   },
   "file_extension": ".py",
   "mimetype": "text/x-python",
   "name": "python",
   "nbconvert_exporter": "python",
   "pygments_lexer": "ipython3",
   "version": "3.11.5"
  }
 },
 "nbformat": 4,
 "nbformat_minor": 5
}
